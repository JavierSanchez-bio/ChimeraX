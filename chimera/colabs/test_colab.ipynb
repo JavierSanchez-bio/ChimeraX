# ================================================================================================
# Google Colab code for testing
#

from google.colab import files
import pandas as pd

df = pd.DataFrame(data={'col1': [1, 2], 'col2': [3, 4]})
df.to_csv('dataframe.csv')
!zip -q results.zip dataframe.cvs 
files.download('result.zip ')

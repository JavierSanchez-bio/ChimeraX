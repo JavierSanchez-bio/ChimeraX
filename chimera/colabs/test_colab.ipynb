from google.colab import files

with open('results.zip', 'w') as f:
  f.write('some content')

files.download('results.zip')
#!zip -q results.zip dataframe.cvs 
